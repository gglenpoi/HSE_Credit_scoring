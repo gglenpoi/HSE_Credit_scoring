{
 "cells": [
  {
   "cell_type": "markdown",
   "id": "e1c92771",
   "metadata": {},
   "source": [
    "<h1>Отбор модели</h1>"
   ]
  },
  {
   "cell_type": "markdown",
   "id": "53b97e9c",
   "metadata": {},
   "source": [
    "Загрузим необходимые библиотеки"
   ]
  },
  {
   "cell_type": "code",
   "execution_count": 1,
   "id": "ab3bfebb",
   "metadata": {},
   "outputs": [],
   "source": [
    "import pandas as pd\n",
    "import gc\n",
    "import warnings\n",
    "from sklearn import (ensemble, model_selection, discriminant_analysis,\n",
    "                     naive_bayes, linear_model, neighbors, tree, svm, metrics)\n",
    "import xgboost as xgb\n",
    "import lightgbm as lgb\n",
    "import catboost as cb\n",
    "from functools import partial\n",
    "from tqdm import notebook\n",
    "import matplotlib.pyplot as plt\n",
    "\n",
    "gc.enable()\n",
    "warnings.filterwarnings(\"ignore\")"
   ]
  },
  {
   "cell_type": "markdown",
   "id": "0faff0df",
   "metadata": {},
   "source": [
    "Напишем функцию для тестирования модели"
   ]
  },
  {
   "cell_type": "code",
   "execution_count": 2,
   "id": "a0594694",
   "metadata": {},
   "outputs": [],
   "source": [
    "def model_test(model, x_train, x_valid, y_train, y_true):\n",
    "    clf = model\n",
    "    clf.fit(x_train, y_train)\n",
    "    f1 = metrics.f1_score(y_true, clf.predict(x_valid), average=\"binary\")\n",
    "    name = (\n",
    "        str(clf)[:str(clf).rfind('(')]\n",
    "        if \"CatBoostClassifier\" not in str(clf) else \"CatBoostClassifier\"\n",
    "    )\n",
    "    with open(\"default_models.txt\", 'a', encoding=\"utf-8\") as file:\n",
    "        file.write(f\"{name}: {round(f1, 5)}\\n\")"
   ]
  },
  {
   "cell_type": "markdown",
   "id": "d4c35fcf",
   "metadata": {},
   "source": [
    "Загрузим обработанные данные, полученные после проведения EDA"
   ]
  },
  {
   "cell_type": "code",
   "execution_count": 3,
   "id": "b31858c7",
   "metadata": {},
   "outputs": [],
   "source": [
    "data = pd.read_csv(\"data/scoring_processed.csv\")"
   ]
  },
  {
   "cell_type": "markdown",
   "id": "f90060b8",
   "metadata": {},
   "source": [
    "Обозначим категориальные признаки, признаки, используемые для обучения"
   ]
  },
  {
   "cell_type": "code",
   "execution_count": 4,
   "id": "f33d2f10",
   "metadata": {},
   "outputs": [],
   "source": [
    "cols = data.columns[1:-2].tolist()\n",
    "full_cols = data.columns[1:]\n",
    "cat_features = [\"RealEstateLoansOrLines\", \"GroupAge\"]"
   ]
  },
  {
   "cell_type": "markdown",
   "id": "f7d1ffac",
   "metadata": {},
   "source": [
    "Для отбора модели будем использовать самую простую схему валидации - `HoldOut`  \n",
    "Разделим данные на трейн и валидационную части"
   ]
  },
  {
   "cell_type": "code",
   "execution_count": 5,
   "id": "ba2bb382",
   "metadata": {},
   "outputs": [],
   "source": [
    "train, valid, _, _ = model_selection.train_test_split(\n",
    "    data,\n",
    "    data[\"SeriousDlqin2yrs\"],\n",
    "    test_size=0.25,\n",
    "    stratify=data[\"SeriousDlqin2yrs\"],\n",
    "    shuffle=True,\n",
    "    random_state=5432\n",
    ")"
   ]
  },
  {
   "cell_type": "markdown",
   "id": "dcd3305f",
   "metadata": {},
   "source": [
    "Зафиксируем некоторые аргументы функции `model_test`"
   ]
  },
  {
   "cell_type": "code",
   "execution_count": 6,
   "id": "5a1b9d49",
   "metadata": {},
   "outputs": [],
   "source": [
    "model_testing = partial(\n",
    "    model_test,\n",
    "    x_train=train[cols],\n",
    "    x_valid=valid[cols], \n",
    "    y_train=train[\"SeriousDlqin2yrs\"],\n",
    "    y_true=valid[\"SeriousDlqin2yrs\"]\n",
    ")"
   ]
  },
  {
   "cell_type": "markdown",
   "id": "65d3b6ed",
   "metadata": {},
   "source": [
    "В качестве кандидатов будем использовать следующие алгоритмы:  \n",
    "    - алгоритмы семейства `naive_bayes` - GaussianNB, MultinomialNB, BernoulliNB, ComplementNB;  \n",
    "    - `деревянные` алгоритмы - DecisionTreeClassifier, RandomForestClassifier, ExtraTreesClassifier;  \n",
    "    - `линейные` алгоритмы - LogisticRegression, LinearSVC, RidgeClassifier;  \n",
    "    - `метрические` алгоритмы - KNeighborsClassifier;  \n",
    "    - алгоритмы `бустинговых` семейств - GradientBoostingClassifier, CatBoostClassifier, LGBMClassifier, XGBClassifier, HistGradientBoostingClassifier;  \n",
    "    - алгоритмы `дискриминантного анализа` - LinearDiscriminantAnalysis, QuadraticDiscriminantAnalysis\n",
    "    \n",
    "Оценивать алгоритмы будем по метрике - `f1`"
   ]
  },
  {
   "cell_type": "code",
   "execution_count": 7,
   "id": "cd6de4ea",
   "metadata": {},
   "outputs": [
    {
     "data": {
      "application/vnd.jupyter.widget-view+json": {
       "model_id": "98aa3fdec9044d8298a7170a44ad7a20",
       "version_major": 2,
       "version_minor": 0
      },
      "text/plain": [
       "  0%|          | 0/18 [00:00<?, ?it/s]"
      ]
     },
     "metadata": {},
     "output_type": "display_data"
    },
    {
     "name": "stdout",
     "output_type": "stream",
     "text": [
      "[LightGBM] [Warning] Auto-choosing row-wise multi-threading, the overhead of testing was 0.002849 seconds.\n",
      "You can set `force_row_wise=true` to remove the overhead.\n",
      "And if memory is not enough, you can set `force_col_wise=true`.\n",
      "[16:11:32] WARNING: C:/buildkite-agent/builds/buildkite-windows-cpu-autoscaling-group-i-0fc7796c793e6356f-1/xgboost/xgboost-ci-windows/src/learner.cc:767: \n",
      "Parameters: { \"verbose\" } are not used.\n",
      "\n"
     ]
    }
   ],
   "source": [
    "np.random.seed(5432)\n",
    "\n",
    "algos = (\n",
    "    naive_bayes.GaussianNB(),\n",
    "    naive_bayes.MultinomialNB(),\n",
    "    naive_bayes.BernoulliNB(),\n",
    "    naive_bayes.ComplementNB(),\n",
    "    neighbors.KNeighborsClassifier(),\n",
    "    linear_model.LogisticRegression(),\n",
    "    tree.DecisionTreeClassifier(),\n",
    "    ensemble.RandomForestClassifier(),\n",
    "    ensemble.ExtraTreesClassifier(),\n",
    "    ensemble.GradientBoostingClassifier(),\n",
    "    svm.LinearSVC(),\n",
    "    cb.CatBoostClassifier(verbose=0),\n",
    "    lgb.LGBMClassifier(verbose=0),\n",
    "    xgb.XGBClassifier(verbose=0),\n",
    "    discriminant_analysis.LinearDiscriminantAnalysis(),\n",
    "    discriminant_analysis.QuadraticDiscriminantAnalysis(),\n",
    "    ensemble.HistGradientBoostingClassifier(),\n",
    "    linear_model.RidgeClassifier(),\n",
    ")\n",
    "\n",
    "for alg in notebook.tqdm(algos):\n",
    "    model_testing(alg)\n",
    "    \n",
    "del algos"
   ]
  },
  {
   "cell_type": "markdown",
   "id": "070517a9",
   "metadata": {},
   "source": [
    "Загрузим и представим результаты обучения выбранных алгоритмов"
   ]
  },
  {
   "cell_type": "code",
   "execution_count": 8,
   "id": "22092072",
   "metadata": {},
   "outputs": [],
   "source": [
    "with open(\"default_models.txt\", 'r', encoding=\"utf-8\") as file:\n",
    "    res = list(map(lambda x: x.strip().split(':'), file.readlines()))"
   ]
  },
  {
   "cell_type": "code",
   "execution_count": 9,
   "id": "a21e0748",
   "metadata": {},
   "outputs": [
    {
     "data": {
      "text/html": [
       "<div>\n",
       "<style scoped>\n",
       "    .dataframe tbody tr th:only-of-type {\n",
       "        vertical-align: middle;\n",
       "    }\n",
       "\n",
       "    .dataframe tbody tr th {\n",
       "        vertical-align: top;\n",
       "    }\n",
       "\n",
       "    .dataframe thead th {\n",
       "        text-align: right;\n",
       "    }\n",
       "</style>\n",
       "<table border=\"1\" class=\"dataframe\">\n",
       "  <thead>\n",
       "    <tr style=\"text-align: right;\">\n",
       "      <th></th>\n",
       "      <th>model</th>\n",
       "      <th>f1</th>\n",
       "    </tr>\n",
       "  </thead>\n",
       "  <tbody>\n",
       "    <tr>\n",
       "      <th>12</th>\n",
       "      <td>LGBMClassifier</td>\n",
       "      <td>0.72408</td>\n",
       "    </tr>\n",
       "    <tr>\n",
       "      <th>11</th>\n",
       "      <td>CatBoostClassifier</td>\n",
       "      <td>0.72399</td>\n",
       "    </tr>\n",
       "    <tr>\n",
       "      <th>13</th>\n",
       "      <td>XGBClassifier</td>\n",
       "      <td>0.72197</td>\n",
       "    </tr>\n",
       "    <tr>\n",
       "      <th>16</th>\n",
       "      <td>HistGradientBoostingClassifier</td>\n",
       "      <td>0.72124</td>\n",
       "    </tr>\n",
       "    <tr>\n",
       "      <th>7</th>\n",
       "      <td>RandomForestClassifier</td>\n",
       "      <td>0.71647</td>\n",
       "    </tr>\n",
       "    <tr>\n",
       "      <th>8</th>\n",
       "      <td>ExtraTreesClassifier</td>\n",
       "      <td>0.71253</td>\n",
       "    </tr>\n",
       "    <tr>\n",
       "      <th>9</th>\n",
       "      <td>GradientBoostingClassifier</td>\n",
       "      <td>0.70558</td>\n",
       "    </tr>\n",
       "    <tr>\n",
       "      <th>2</th>\n",
       "      <td>BernoulliNB</td>\n",
       "      <td>0.63971</td>\n",
       "    </tr>\n",
       "    <tr>\n",
       "      <th>14</th>\n",
       "      <td>LinearDiscriminantAnalysis</td>\n",
       "      <td>0.63934</td>\n",
       "    </tr>\n",
       "    <tr>\n",
       "      <th>17</th>\n",
       "      <td>RidgeClassifier</td>\n",
       "      <td>0.63934</td>\n",
       "    </tr>\n",
       "    <tr>\n",
       "      <th>6</th>\n",
       "      <td>DecisionTreeClassifier</td>\n",
       "      <td>0.60012</td>\n",
       "    </tr>\n",
       "    <tr>\n",
       "      <th>0</th>\n",
       "      <td>GaussianNB</td>\n",
       "      <td>0.59844</td>\n",
       "    </tr>\n",
       "    <tr>\n",
       "      <th>10</th>\n",
       "      <td>LinearSVC</td>\n",
       "      <td>0.57464</td>\n",
       "    </tr>\n",
       "    <tr>\n",
       "      <th>5</th>\n",
       "      <td>LogisticRegression</td>\n",
       "      <td>0.52929</td>\n",
       "    </tr>\n",
       "    <tr>\n",
       "      <th>4</th>\n",
       "      <td>KNeighborsClassifier</td>\n",
       "      <td>0.115</td>\n",
       "    </tr>\n",
       "    <tr>\n",
       "      <th>3</th>\n",
       "      <td>ComplementNB</td>\n",
       "      <td>0.10899</td>\n",
       "    </tr>\n",
       "    <tr>\n",
       "      <th>1</th>\n",
       "      <td>MultinomialNB</td>\n",
       "      <td>0.10732</td>\n",
       "    </tr>\n",
       "    <tr>\n",
       "      <th>15</th>\n",
       "      <td>QuadraticDiscriminantAnalysis</td>\n",
       "      <td>0.0</td>\n",
       "    </tr>\n",
       "  </tbody>\n",
       "</table>\n",
       "</div>"
      ],
      "text/plain": [
       "                             model        f1\n",
       "12                  LGBMClassifier   0.72408\n",
       "11              CatBoostClassifier   0.72399\n",
       "13                   XGBClassifier   0.72197\n",
       "16  HistGradientBoostingClassifier   0.72124\n",
       "7           RandomForestClassifier   0.71647\n",
       "8             ExtraTreesClassifier   0.71253\n",
       "9       GradientBoostingClassifier   0.70558\n",
       "2                      BernoulliNB   0.63971\n",
       "14      LinearDiscriminantAnalysis   0.63934\n",
       "17                 RidgeClassifier   0.63934\n",
       "6           DecisionTreeClassifier   0.60012\n",
       "0                       GaussianNB   0.59844\n",
       "10                       LinearSVC   0.57464\n",
       "5               LogisticRegression   0.52929\n",
       "4             KNeighborsClassifier     0.115\n",
       "3                     ComplementNB   0.10899\n",
       "1                    MultinomialNB   0.10732\n",
       "15   QuadraticDiscriminantAnalysis       0.0"
      ]
     },
     "execution_count": 9,
     "metadata": {},
     "output_type": "execute_result"
    }
   ],
   "source": [
    "pd.DataFrame(columns=[\"model\", \"f1\"], data=res).sort_values(by=\"f1\", ascending=False)"
   ]
  },
  {
   "cell_type": "markdown",
   "id": "b3417b7f",
   "metadata": {},
   "source": [
    "Самым лучшим оказался алгоритм - `LGBMClassifier`  \n",
    "Совсем немного от него отстаёт - `CatBoostClassifier`  \n",
    "`LGBMClassifier` обучается быстрее в силу своей реализации, однако для данного набора данных и `CatBoostClassifier` обучается не так долго  \n",
    "Однако `CatBoostClassifier` имеет больший простор по выбору и подбору гиперпараметров алгоритма. В силу этого (и моей предвзятости) в качестве основного классификатора возьмём `CatBoostClassifier`"
   ]
  },
  {
   "cell_type": "markdown",
   "id": "0b5e6e9b",
   "metadata": {},
   "source": [
    "Напишем функцию для валидации `CatBoostClassifier`"
   ]
  },
  {
   "cell_type": "code",
   "execution_count": 10,
   "id": "cf170463",
   "metadata": {},
   "outputs": [],
   "source": [
    "def cb_validate(data, cols, cat_features=None):\n",
    "    clf = cb.CatBoostClassifier(\n",
    "        random_seed=5432,\n",
    "        early_stopping_rounds=200,\n",
    "        eval_metric=\"F1\",\n",
    "        verbose=0\n",
    "    )\n",
    "    kfold = model_selection.StratifiedKFold(\n",
    "        n_splits=10,\n",
    "        random_state=5432,\n",
    "        shuffle=True\n",
    "    )\n",
    "    scores = []\n",
    "    for train_idx, val_idx in notebook.tqdm(\n",
    "        kfold.split(data[cols], data[\"SeriousDlqin2yrs\"])\n",
    "    ):\n",
    "        x_train, y_train = data.loc[train_idx, cols], data.loc[train_idx, \"SeriousDlqin2yrs\"]\n",
    "        x_val, y_val = data.loc[val_idx, cols], data.loc[val_idx, \"SeriousDlqin2yrs\"]\n",
    "        \n",
    "        train_pool = cb.Pool(x_train, y_train, cat_features=cat_features)\n",
    "        valid_pool = cb.Pool(x_val, y_val, cat_features=cat_features)\n",
    "        clf.fit(train_pool, eval_set=valid_pool)\n",
    "        scores.append(clf.best_score_[\"validation\"][\"F1\"])\n",
    "        \n",
    "    print(f\"[MEAN]: {round(np.mean(scores), 5)} /// [STD]: {round(np.std(scores), 5)}\")\n",
    "    plt.plot(scores)\n",
    "    plt.show()"
   ]
  },
  {
   "cell_type": "code",
   "execution_count": 11,
   "id": "a38d4e5d",
   "metadata": {},
   "outputs": [
    {
     "data": {
      "application/vnd.jupyter.widget-view+json": {
       "model_id": "480875556a154436ac678da7595a16c8",
       "version_major": 2,
       "version_minor": 0
      },
      "text/plain": [
       "0it [00:00, ?it/s]"
      ]
     },
     "metadata": {},
     "output_type": "display_data"
    },
    {
     "name": "stdout",
     "output_type": "stream",
     "text": [
      "[MEAN]: 0.7288 /// [STD]: 0.01488\n"
     ]
    },
    {
     "data": {
      "image/png": "[encoded data removed]",
      "text/plain": [
       "<Figure size 640x480 with 1 Axes>"
      ]
     },
     "metadata": {},
     "output_type": "display_data"
    }
   ],
   "source": [
    "cb_validate(data, full_cols, cat_features=cat_features)"
   ]
  },
  {
   "cell_type": "markdown",
   "id": "a293b3ae",
   "metadata": {},
   "source": [
    "Тривиальным способом кодируем категориальные признаки"
   ]
  },
  {
   "cell_type": "code",
   "execution_count": 12,
   "id": "9dc28a8b",
   "metadata": {},
   "outputs": [],
   "source": [
    "data = pd.get_dummies(data=data, columns=cat_features, drop_first=True)"
   ]
  },
  {
   "cell_type": "markdown",
   "id": "edd4595b",
   "metadata": {},
   "source": [
    "Отберём признаки для обучени и провалидируем алгоритм"
   ]
  },
  {
   "cell_type": "code",
   "execution_count": 13,
   "id": "eb88f2b6",
   "metadata": {},
   "outputs": [],
   "source": [
    "cols = data.columns[1:].tolist()"
   ]
  },
  {
   "cell_type": "code",
   "execution_count": 14,
   "id": "5114cd6c",
   "metadata": {},
   "outputs": [
    {
     "data": {
      "application/vnd.jupyter.widget-view+json": {
       "model_id": "a130f99743d14ab7af8c73f0f5b765fc",
       "version_major": 2,
       "version_minor": 0
      },
      "text/plain": [
       "0it [00:00, ?it/s]"
      ]
     },
     "metadata": {},
     "output_type": "display_data"
    },
    {
     "name": "stdout",
     "output_type": "stream",
     "text": [
      "[MEAN]: 0.72902 /// [STD]: 0.01419\n"
     ]
    },
    {
     "data": {
      "image/png": "[encoded data removed]",
      "text/plain": [
       "<Figure size 640x480 with 1 Axes>"
      ]
     },
     "metadata": {},
     "output_type": "display_data"
    }
   ],
   "source": [
    "cb_validate(data, cols, cat_features=None)"
   ]
  },
  {
   "cell_type": "markdown",
   "id": "c2a29c62",
   "metadata": {},
   "source": [
    "`OHE` помогло повысить качество алгоритма, а также немного снизить переобучение\n",
    "Сохраним названия признаков, использованных при обучении"
   ]
  },
  {
   "cell_type": "code",
   "execution_count": 15,
   "id": "9941324e",
   "metadata": {},
   "outputs": [],
   "source": [
    "with open(\"features_names.txt\", \"w\", encoding=\"utf-8\") as file:\n",
    "    file.write('\\n'.join(cols))"
   ]
  },
  {
   "cell_type": "markdown",
   "id": "597f1846",
   "metadata": {},
   "source": [
    "Соберём пул полных данных и обучим классификатор на нём. Сохраним полученные веса"
   ]
  },
  {
   "cell_type": "code",
   "execution_count": 16,
   "id": "60ccebb0",
   "metadata": {},
   "outputs": [],
   "source": [
    "full_train_pool = cb.Pool(\n",
    "    data[cols],\n",
    "    data[\"SeriousDlqin2yrs\"],\n",
    "    cat_features=None,\n",
    ")"
   ]
  },
  {
   "cell_type": "code",
   "execution_count": 17,
   "id": "3dae3b26",
   "metadata": {},
   "outputs": [
    {
     "name": "stdout",
     "output_type": "stream",
     "text": [
      "Learning rate set to 0.08177\n",
      "0:\tlearn: 0.6558672\ttotal: 12.8ms\tremaining: 12.8s\n",
      "200:\tlearn: 0.7299904\ttotal: 2.28s\tremaining: 9.06s\n",
      "400:\tlearn: 0.7397208\ttotal: 4.61s\tremaining: 6.88s\n",
      "600:\tlearn: 0.7452765\ttotal: 6.87s\tremaining: 4.56s\n",
      "800:\tlearn: 0.7502833\ttotal: 9.33s\tremaining: 2.32s\n",
      "999:\tlearn: 0.7543331\ttotal: 11.7s\tremaining: 0us\n"
     ]
    },
    {
     "data": {
      "text/plain": [
       "<catboost.core.CatBoostClassifier at 0x24f15521ee0>"
      ]
     },
     "execution_count": 17,
     "metadata": {},
     "output_type": "execute_result"
    }
   ],
   "source": [
    "clf = cb.CatBoostClassifier(random_seed=5432, early_stopping_rounds=200, eval_metric=\"F1\", verbose=200)\n",
    "clf.fit(full_train_pool, eval_set=None)"
   ]
  },
  {
   "cell_type": "code",
   "execution_count": 18,
   "id": "da1c9a64",
   "metadata": {},
   "outputs": [],
   "source": [
    "clf.save_model(\"weights/clf\")"
   ]
  },
  {
   "cell_type": "markdown",
   "id": "970fd931",
   "metadata": {},
   "source": []
  }
 ],
 "metadata": {
  "kernelspec": {
   "display_name": "Python 3 (ipykernel)",
   "language": "python",
   "name": "python3"
  },
  "language_info": {
   "codemirror_mode": {
    "name": "ipython",
    "version": 3
   },
   "file_extension": ".py",
   "mimetype": "text/x-python",
   "name": "python",
   "nbconvert_exporter": "python",
   "pygments_lexer": "ipython3",
   "version": "3.9.13"
  },
  "varInspector": {
   "cols": {
    "lenName": 16,
    "lenType": 16,
    "lenVar": 40
   },
   "kernels_config": {
    "python": {
     "delete_cmd_postfix": "",
     "delete_cmd_prefix": "del ",
     "library": "var_list.py",
     "varRefreshCmd": "print(var_dic_list())"
    },
    "r": {
     "delete_cmd_postfix": ") ",
     "delete_cmd_prefix": "rm(",
     "library": "var_list.r",
     "varRefreshCmd": "cat(var_dic_list()) "
    }
   },
   "types_to_exclude": [
    "module",
    "function",
    "builtin_function_or_method",
    "instance",
    "_Feature"
   ],
   "window_display": false
  }
 },
 "nbformat": 4,
 "nbformat_minor": 5
}
