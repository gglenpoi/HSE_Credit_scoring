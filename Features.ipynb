{
 "cells": [
  {
   "cell_type": "markdown",
   "id": "e4e58bfd",
   "metadata": {},
   "source": [
    "<h1>Важность признаков для выбранного алгоритма классификации</h1>"
   ]
  },
  {
   "cell_type": "markdown",
   "id": "62472762",
   "metadata": {},
   "source": [
    "Загрузим необходимы библиотеки"
   ]
  },
  {
   "cell_type": "code",
   "execution_count": 1,
   "id": "ab3bfebb",
   "metadata": {},
   "outputs": [],
   "source": [
    "import pandas as pd\n",
    "import gc\n",
    "import warnings\n",
    "from sklearn import model_selection\n",
    "import catboost as cb\n",
    "\n",
    "gc.enable()\n",
    "warnings.filterwarnings(\"ignore\")"
   ]
  },
  {
   "cell_type": "markdown",
   "id": "391c5cc8",
   "metadata": {},
   "source": [
    "Загрузим обработанные данные"
   ]
  },
  {
   "cell_type": "code",
   "execution_count": 2,
   "id": "b31858c7",
   "metadata": {},
   "outputs": [],
   "source": [
    "data = pd.read_csv(\"data/scoring_processed.csv\")\n",
    "\n",
    "cat_features = [\"RealEstateLoansOrLines\", \"GroupAge\"]\n",
    "data = pd.get_dummies(data, columns=cat_features, drop_first=True)\n",
    "\n",
    "cols = data.columns[1:].tolist()"
   ]
  },
  {
   "cell_type": "markdown",
   "id": "8b4b69e3",
   "metadata": {},
   "source": [
    "Разделим на трейн и валидационную части и соберём пулы для `CatBoostClassifier`"
   ]
  },
  {
   "cell_type": "code",
   "execution_count": 3,
   "id": "ba2bb382",
   "metadata": {},
   "outputs": [],
   "source": [
    "train, valid, _, _ = model_selection.train_test_split(\n",
    "    data,\n",
    "    data[\"SeriousDlqin2yrs\"],\n",
    "    test_size=0.25,\n",
    "    stratify=data[\"SeriousDlqin2yrs\"],\n",
    "    shuffle=True,\n",
    "    random_state=5432\n",
    ")"
   ]
  },
  {
   "cell_type": "code",
   "execution_count": 4,
   "id": "d854ae84",
   "metadata": {},
   "outputs": [],
   "source": [
    "train_pool = cb.Pool(\n",
    "    train[cols],\n",
    "    train[\"SeriousDlqin2yrs\"],\n",
    "    cat_features=None\n",
    ")\n",
    "\n",
    "valid_pool = cb.Pool(\n",
    "    valid[cols],\n",
    "    valid[\"SeriousDlqin2yrs\"],\n",
    "    cat_features=None\n",
    ")"
   ]
  },
  {
   "cell_type": "markdown",
   "id": "e2da3cd6",
   "metadata": {},
   "source": [
    "Обучим классификатор"
   ]
  },
  {
   "cell_type": "code",
   "execution_count": 5,
   "id": "33c48a12",
   "metadata": {},
   "outputs": [
    {
     "name": "stdout",
     "output_type": "stream",
     "text": [
      "Learning rate set to 0.097828\n",
      "0:\tlearn: 0.6361548\ttest: 0.6389653\tbest: 0.6389653 (0)\ttotal: 168ms\tremaining: 2m 48s\n",
      "200:\tlearn: 0.7333673\ttest: 0.7219662\tbest: 0.7219662 (199)\ttotal: 1.75s\tremaining: 6.98s\n",
      "400:\tlearn: 0.7426018\ttest: 0.7251850\tbest: 0.7251850 (397)\ttotal: 3.47s\tremaining: 5.19s\n",
      "600:\tlearn: 0.7507548\ttest: 0.7242610\tbest: 0.7260692 (555)\ttotal: 5.2s\tremaining: 3.45s\n",
      "Stopped by overfitting detector  (200 iterations wait)\n",
      "\n",
      "bestTest = 0.7260692464\n",
      "bestIteration = 555\n",
      "\n",
      "Shrink model to first 556 iterations.\n"
     ]
    },
    {
     "data": {
      "text/plain": [
       "<catboost.core.CatBoostClassifier at 0x2d069a183d0>"
      ]
     },
     "execution_count": 5,
     "metadata": {},
     "output_type": "execute_result"
    }
   ],
   "source": [
    "clf = cb.CatBoostClassifier(random_seed=5432, early_stopping_rounds=200, eval_metric=\"F1\", verbose=200)\n",
    "clf.fit(train_pool, eval_set=valid_pool)"
   ]
  },
  {
   "cell_type": "markdown",
   "id": "cbfcff1a",
   "metadata": {},
   "source": [
    "Посмотрим на полученную важность признаков"
   ]
  },
  {
   "cell_type": "code",
   "execution_count": 6,
   "id": "9d785061",
   "metadata": {},
   "outputs": [
    {
     "data": {
      "text/html": [
       "<div>\n",
       "<style scoped>\n",
       "    .dataframe tbody tr th:only-of-type {\n",
       "        vertical-align: middle;\n",
       "    }\n",
       "\n",
       "    .dataframe tbody tr th {\n",
       "        vertical-align: top;\n",
       "    }\n",
       "\n",
       "    .dataframe thead th {\n",
       "        text-align: right;\n",
       "    }\n",
       "</style>\n",
       "<table border=\"1\" class=\"dataframe\">\n",
       "  <thead>\n",
       "    <tr style=\"text-align: right;\">\n",
       "      <th></th>\n",
       "      <th>col</th>\n",
       "      <th>fi</th>\n",
       "    </tr>\n",
       "  </thead>\n",
       "  <tbody>\n",
       "    <tr>\n",
       "      <th>5</th>\n",
       "      <td>NumberOfTimes90DaysLate</td>\n",
       "      <td>22.500234</td>\n",
       "    </tr>\n",
       "    <tr>\n",
       "      <th>0</th>\n",
       "      <td>RevolvingUtilizationOfUnsecuredLines</td>\n",
       "      <td>18.021585</td>\n",
       "    </tr>\n",
       "    <tr>\n",
       "      <th>6</th>\n",
       "      <td>NumberOfTime60-89DaysPastDueNotWorse</td>\n",
       "      <td>13.451813</td>\n",
       "    </tr>\n",
       "    <tr>\n",
       "      <th>1</th>\n",
       "      <td>NumberOfTime30-59DaysPastDueNotWorse</td>\n",
       "      <td>10.732799</td>\n",
       "    </tr>\n",
       "    <tr>\n",
       "      <th>2</th>\n",
       "      <td>DebtRatio</td>\n",
       "      <td>10.102843</td>\n",
       "    </tr>\n",
       "    <tr>\n",
       "      <th>3</th>\n",
       "      <td>MonthlyIncome</td>\n",
       "      <td>8.402733</td>\n",
       "    </tr>\n",
       "    <tr>\n",
       "      <th>4</th>\n",
       "      <td>NumberOfOpenCreditLinesAndLoans</td>\n",
       "      <td>6.819184</td>\n",
       "    </tr>\n",
       "    <tr>\n",
       "      <th>7</th>\n",
       "      <td>NumberOfDependents</td>\n",
       "      <td>5.408075</td>\n",
       "    </tr>\n",
       "    <tr>\n",
       "      <th>14</th>\n",
       "      <td>GroupAge_e</td>\n",
       "      <td>1.458092</td>\n",
       "    </tr>\n",
       "    <tr>\n",
       "      <th>13</th>\n",
       "      <td>GroupAge_d</td>\n",
       "      <td>1.035770</td>\n",
       "    </tr>\n",
       "    <tr>\n",
       "      <th>8</th>\n",
       "      <td>RealEstateLoansOrLines_B</td>\n",
       "      <td>0.798462</td>\n",
       "    </tr>\n",
       "    <tr>\n",
       "      <th>12</th>\n",
       "      <td>GroupAge_c</td>\n",
       "      <td>0.721574</td>\n",
       "    </tr>\n",
       "    <tr>\n",
       "      <th>9</th>\n",
       "      <td>RealEstateLoansOrLines_C</td>\n",
       "      <td>0.508256</td>\n",
       "    </tr>\n",
       "    <tr>\n",
       "      <th>10</th>\n",
       "      <td>RealEstateLoansOrLines_D</td>\n",
       "      <td>0.038534</td>\n",
       "    </tr>\n",
       "    <tr>\n",
       "      <th>11</th>\n",
       "      <td>RealEstateLoansOrLines_E</td>\n",
       "      <td>0.000047</td>\n",
       "    </tr>\n",
       "  </tbody>\n",
       "</table>\n",
       "</div>"
      ],
      "text/plain": [
       "                                     col         fi\n",
       "5                NumberOfTimes90DaysLate  22.500234\n",
       "0   RevolvingUtilizationOfUnsecuredLines  18.021585\n",
       "6   NumberOfTime60-89DaysPastDueNotWorse  13.451813\n",
       "1   NumberOfTime30-59DaysPastDueNotWorse  10.732799\n",
       "2                              DebtRatio  10.102843\n",
       "3                          MonthlyIncome   8.402733\n",
       "4        NumberOfOpenCreditLinesAndLoans   6.819184\n",
       "7                     NumberOfDependents   5.408075\n",
       "14                            GroupAge_e   1.458092\n",
       "13                            GroupAge_d   1.035770\n",
       "8               RealEstateLoansOrLines_B   0.798462\n",
       "12                            GroupAge_c   0.721574\n",
       "9               RealEstateLoansOrLines_C   0.508256\n",
       "10              RealEstateLoansOrLines_D   0.038534\n",
       "11              RealEstateLoansOrLines_E   0.000047"
      ]
     },
     "execution_count": 6,
     "metadata": {},
     "output_type": "execute_result"
    }
   ],
   "source": [
    "pd.DataFrame({\n",
    "    \"col\": clf.feature_names_,\n",
    "    \"fi\": clf.feature_importances_\n",
    "}).sort_values(by=\"fi\", ascending=False)"
   ]
  },
  {
   "cell_type": "markdown",
   "id": "32404f41",
   "metadata": {},
   "source": [
    "Получаем, что самым важным признаком является `NumberOfTimes90DaysLate`, а признаком, который не вносит вклад в предсказательную способность модели, является `RealEstateLoansOrLines_E`"
   ]
  },
  {
   "cell_type": "markdown",
   "id": "fe928c95",
   "metadata": {},
   "source": []
  }
 ],
 "metadata": {
  "kernelspec": {
   "display_name": "Python 3 (ipykernel)",
   "language": "python",
   "name": "python3"
  },
  "language_info": {
   "codemirror_mode": {
    "name": "ipython",
    "version": 3
   },
   "file_extension": ".py",
   "mimetype": "text/x-python",
   "name": "python",
   "nbconvert_exporter": "python",
   "pygments_lexer": "ipython3",
   "version": "3.9.13"
  },
  "varInspector": {
   "cols": {
    "lenName": 16,
    "lenType": 16,
    "lenVar": 40
   },
   "kernels_config": {
    "python": {
     "delete_cmd_postfix": "",
     "delete_cmd_prefix": "del ",
     "library": "var_list.py",
     "varRefreshCmd": "print(var_dic_list())"
    },
    "r": {
     "delete_cmd_postfix": ") ",
     "delete_cmd_prefix": "rm(",
     "library": "var_list.r",
     "varRefreshCmd": "cat(var_dic_list()) "
    }
   },
   "types_to_exclude": [
    "module",
    "function",
    "builtin_function_or_method",
    "instance",
    "_Feature"
   ],
   "window_display": false
  }
 },
 "nbformat": 4,
 "nbformat_minor": 5
}
